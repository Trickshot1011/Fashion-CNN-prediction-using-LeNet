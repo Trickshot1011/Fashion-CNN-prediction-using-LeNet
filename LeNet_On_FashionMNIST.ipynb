{
  "nbformat": 4,
  "nbformat_minor": 0,
  "metadata": {
    "colab": {
      "provenance": []
    },
    "kernelspec": {
      "name": "python3",
      "display_name": "Python 3"
    },
    "language_info": {
      "name": "python"
    },
    "accelerator": "GPU"
  },
  "cells": [
    {
      "cell_type": "markdown",
      "source": [
        "## Importing Packages"
      ],
      "metadata": {
        "id": "HVEGKNn-TQ3K"
      }
    },
    {
      "cell_type": "code",
      "execution_count": 92,
      "metadata": {
        "id": "-aUmjbmeTLib"
      },
      "outputs": [],
      "source": [
        "import torch\n",
        "import torch.nn as nn\n",
        "import torchvision\n",
        "import torchvision.transforms as transforms\n",
        "import numpy as np\n",
        "import pandas as pd\n",
        "import matplotlib.pyplot as plt"
      ]
    },
    {
      "cell_type": "code",
      "source": [
        "# Device configuration\n",
        "device = torch.device('cuda' if torch.cuda.is_available() else 'cpu')"
      ],
      "metadata": {
        "id": "oOrTWFXjTdHQ"
      },
      "execution_count": 93,
      "outputs": []
    },
    {
      "cell_type": "code",
      "source": [
        "device"
      ],
      "metadata": {
        "colab": {
          "base_uri": "https://localhost:8080/"
        },
        "id": "qN82RkJVT3CD",
        "outputId": "cc4c027d-e0f7-496a-a8f4-8f428d77128a"
      },
      "execution_count": 94,
      "outputs": [
        {
          "output_type": "execute_result",
          "data": {
            "text/plain": [
              "device(type='cuda')"
            ]
          },
          "metadata": {},
          "execution_count": 94
        }
      ]
    },
    {
      "cell_type": "markdown",
      "source": [
        "## Loading Fashion-MNIST"
      ],
      "metadata": {
        "id": "Iq4JSNE_UA7_"
      }
    },
    {
      "cell_type": "code",
      "source": [
        "train_dataset = torchvision.datasets.FashionMNIST(root='./data',train=True,transform=transforms.ToTensor(),download=True)\n",
        "test_dataset = torchvision.datasets.FashionMNIST(root='./data',train=False,transform=transforms.ToTensor())"
      ],
      "metadata": {
        "id": "4ZxLVt_bT4TH"
      },
      "execution_count": 95,
      "outputs": []
    },
    {
      "cell_type": "code",
      "source": [
        "len(test_dataset)"
      ],
      "metadata": {
        "id": "v1BseAvAfJJn",
        "colab": {
          "base_uri": "https://localhost:8080/"
        },
        "outputId": "83ecb859-e727-45b3-c590-c9898797afce"
      },
      "execution_count": 96,
      "outputs": [
        {
          "output_type": "execute_result",
          "data": {
            "text/plain": [
              "10000"
            ]
          },
          "metadata": {},
          "execution_count": 96
        }
      ]
    },
    {
      "cell_type": "code",
      "source": [
        "train_size = int(len(train_dataset) * 0.9) # 80% training data\n",
        "valid_size = len(train_dataset) - train_size # 20% validation data\n",
        "train_dataset, valid_dataset = torch.utils.data.random_split(train_dataset, [train_size, valid_size])"
      ],
      "metadata": {
        "id": "qOlH4VVlfFcH"
      },
      "execution_count": 97,
      "outputs": []
    },
    {
      "cell_type": "code",
      "source": [
        "len(valid_dataset)"
      ],
      "metadata": {
        "colab": {
          "base_uri": "https://localhost:8080/"
        },
        "id": "HL7Yy3JE3w4B",
        "outputId": "4d0f16c7-8601-4c69-e806-71a90cd18e0a"
      },
      "execution_count": 98,
      "outputs": [
        {
          "output_type": "execute_result",
          "data": {
            "text/plain": [
              "6000"
            ]
          },
          "metadata": {},
          "execution_count": 98
        }
      ]
    },
    {
      "cell_type": "markdown",
      "source": [
        "## Setting the hyperparameters"
      ],
      "metadata": {
        "id": "fZdRs9QLUzpM"
      }
    },
    {
      "cell_type": "code",
      "source": [
        "input_size = 28*28*1 # as the image is of size 28X28X1, 1 - grey scale, and input will have 28*28 sized input array\n",
        "batch_size = 200\n",
        "num_of_labels = 10\n",
        "epochs = 5\n",
        "learning_rate = 0.001"
      ],
      "metadata": {
        "id": "R8BlwZxeUwcQ"
      },
      "execution_count": 175,
      "outputs": []
    },
    {
      "cell_type": "markdown",
      "source": [
        "## Creating the iterables"
      ],
      "metadata": {
        "id": "mY7zIIPTWq5b"
      }
    },
    {
      "cell_type": "code",
      "source": [
        "train_loader = torch.utils.data.DataLoader(train_dataset, batch_size=batch_size,shuffle=True)"
      ],
      "metadata": {
        "id": "1wH6bgnfWp9Z"
      },
      "execution_count": 176,
      "outputs": []
    },
    {
      "cell_type": "code",
      "source": [
        "val_loader = torch.utils.data.DataLoader(valid_dataset, batch_size=batch_size,shuffle=True)"
      ],
      "metadata": {
        "id": "JarlIKCQf035"
      },
      "execution_count": 177,
      "outputs": []
    },
    {
      "cell_type": "code",
      "source": [
        "test_loader = torch.utils.data.DataLoader(test_dataset, batch_size=batch_size, shuffle = False)"
      ],
      "metadata": {
        "id": "CsAAyPwQW0B3"
      },
      "execution_count": 178,
      "outputs": []
    },
    {
      "cell_type": "code",
      "source": [
        "#to check the values\n",
        "value = iter(val_loader)\n",
        "value_data, value_label = next(value)\n",
        "print(value_data.shape, value_label.shape)"
      ],
      "metadata": {
        "colab": {
          "base_uri": "https://localhost:8080/"
        },
        "id": "5DqtXbmlXKgd",
        "outputId": "b84f508b-d140-4390-ba17-8437a2b4d3fc"
      },
      "execution_count": 179,
      "outputs": [
        {
          "output_type": "stream",
          "name": "stdout",
          "text": [
            "torch.Size([200, 1, 28, 28]) torch.Size([200])\n"
          ]
        }
      ]
    },
    {
      "cell_type": "code",
      "source": [
        "for i in range(6):\n",
        "    plt.subplot(3,2,i+1)\n",
        "    plt.imshow(value_data[i][0], cmap='gray')\n",
        "plt.show()"
      ],
      "metadata": {
        "colab": {
          "base_uri": "https://localhost:8080/",
          "height": 268
        },
        "id": "GcinvD-9YKil",
        "outputId": "361ea1b4-d9f4-41f3-c7fa-611d5071074c"
      },
      "execution_count": 180,
      "outputs": [
        {
          "output_type": "display_data",
          "data": {
            "text/plain": [
              "<Figure size 432x288 with 6 Axes>"
            ],
            "image/png": "[encoded data removed]"
          },
          "metadata": {
            "needs_background": "light"
          }
        }
      ]
    },
    {
      "cell_type": "markdown",
      "source": [
        "## Definig the Neural Networks"
      ],
      "metadata": {
        "id": "0sg9jzHpYif1"
      }
    },
    {
      "cell_type": "code",
      "source": [
        "from torch.nn.modules import Tanh\n",
        "class LeNet5(nn.Module):\n",
        "\n",
        "  def __init__(self, input_size, no_of_labels):\n",
        "    super(LeNet5, self).__init__()\n",
        "    # self.linear1 = nn.Linear(input_size, hidden_size)\n",
        "    # self.Relu = nn.ReLU()\n",
        "    # self.linear2 = nn.Linear(hidden_size, no_of_labels)\n",
        "    self.layer1 = nn.Sequential(\n",
        "            nn.Conv2d(in_channels = 1, out_channels = 6, kernel_size = 5, stride = 1, padding = 2),\n",
        "            nn.BatchNorm2d(6), # this is to increase network and for the same batch size and epoch value, it gives a good result\n",
        "            nn.ReLU(), #should have been tanh but relu gives better as per recent discoveries.\n",
        "            nn.AvgPool2d(kernel_size = 2, stride = 2, padding = 0, ceil_mode = False)\n",
        "        )\n",
        "    self.layer2 = nn.Sequential(\n",
        "            nn.Conv2d(in_channels = 6, out_channels = 16, kernel_size = 5, stride = 1, padding = 0),\n",
        "            nn.BatchNorm2d(16), # this is to increase network and for the same batch size and epoch value, it gives a good result\n",
        "            nn.ReLU(), #should have been tanh but relu gives better as per recent discoveries.\n",
        "            nn.AvgPool2d(kernel_size = 2, stride = 2, padding = 0, ceil_mode = False)\n",
        "        )\n",
        "    self.layer3 = nn.Sequential(\n",
        "            nn.Conv2d(in_channels = 16, out_channels = 120, kernel_size = 5, stride = 1, padding = 0),\n",
        "            nn.ReLU(), #should have been tanh but relu gives better as per recent discoveries.\n",
        "            nn.Flatten(start_dim=1)\n",
        "        )\n",
        "    # not using any activation function, as we are using Cross-entropy as our loss calculation\n",
        "    self.fc = nn.Sequential(\n",
        "        nn.Linear(in_features = 120,out_features = 84),\n",
        "        nn.ReLU(), #should have been tanh but relu gives better as per recent discoveries.\n",
        "        nn.Linear(in_features = 84,out_features = 10)\n",
        "    )\n",
        "\n",
        "  def forward(self, X):\n",
        "    # out = self.layer1(X)\n",
        "    # out = self.layer2(out)\n",
        "    # out = out.view(out.size(0), -1)\n",
        "    # out = self.fc(out)\n",
        "    out = self.layer1(X)\n",
        "    out = self.layer2(out)\n",
        "    out = self.layer3(out)\n",
        "    # #out = out.view(out.size(0), -1)\n",
        "    # out = out.flatten(out, 1)\n",
        "    out = self.fc(out)\n",
        "    return out"
      ],
      "metadata": {
        "id": "hKvItVspYPfT"
      },
      "execution_count": 181,
      "outputs": []
    },
    {
      "cell_type": "code",
      "source": [
        "model = LeNet5(input_size=input_size, no_of_labels = num_of_labels).to(device)"
      ],
      "metadata": {
        "id": "QdrW58N0Zd50"
      },
      "execution_count": 182,
      "outputs": []
    },
    {
      "cell_type": "code",
      "source": [
        "model #not having softmax at last layer, as we are using cross entropy as loss function"
      ],
      "metadata": {
        "colab": {
          "base_uri": "https://localhost:8080/"
        },
        "id": "66vV_5Tw1LzN",
        "outputId": "c37c51d0-84e7-45a9-a1fa-1e121f7a3080"
      },
      "execution_count": 183,
      "outputs": [
        {
          "output_type": "execute_result",
          "data": {
            "text/plain": [
              "LeNet5(\n",
              "  (layer1): Sequential(\n",
              "    (0): Conv2d(1, 6, kernel_size=(5, 5), stride=(1, 1), padding=(2, 2))\n",
              "    (1): BatchNorm2d(6, eps=1e-05, momentum=0.1, affine=True, track_running_stats=True)\n",
              "    (2): ReLU()\n",
              "    (3): AvgPool2d(kernel_size=2, stride=2, padding=0)\n",
              "  )\n",
              "  (layer2): Sequential(\n",
              "    (0): Conv2d(6, 16, kernel_size=(5, 5), stride=(1, 1))\n",
              "    (1): BatchNorm2d(16, eps=1e-05, momentum=0.1, affine=True, track_running_stats=True)\n",
              "    (2): ReLU()\n",
              "    (3): AvgPool2d(kernel_size=2, stride=2, padding=0)\n",
              "  )\n",
              "  (layer3): Sequential(\n",
              "    (0): Conv2d(16, 120, kernel_size=(5, 5), stride=(1, 1))\n",
              "    (1): ReLU()\n",
              "    (2): Flatten(start_dim=1, end_dim=-1)\n",
              "  )\n",
              "  (fc): Sequential(\n",
              "    (0): Linear(in_features=120, out_features=84, bias=True)\n",
              "    (1): ReLU()\n",
              "    (2): Linear(in_features=84, out_features=10, bias=True)\n",
              "  )\n",
              ")"
            ]
          },
          "metadata": {},
          "execution_count": 183
        }
      ]
    },
    {
      "cell_type": "markdown",
      "source": [
        "## Training Our Model"
      ],
      "metadata": {
        "id": "AJjJ5nb8aCis"
      }
    },
    {
      "cell_type": "code",
      "source": [],
      "metadata": {
        "id": "9e6lMDIqpBwM"
      },
      "execution_count": 183,
      "outputs": []
    },
    {
      "cell_type": "markdown",
      "source": [
        "Cross Entropy function is sum of Softmax with negative likelihood function"
      ],
      "metadata": {
        "id": "UI0vAt9gpCrb"
      }
    },
    {
      "cell_type": "code",
      "source": [
        "loss_ = nn.CrossEntropyLoss()\n",
        "optimizer = torch.optim.Adam(model.parameters(), lr = learning_rate)\n",
        "number_of_training_samples = len(train_loader)"
      ],
      "metadata": {
        "id": "gvnZc7IRaA0X"
      },
      "execution_count": 184,
      "outputs": []
    },
    {
      "cell_type": "code",
      "source": [
        "# this takes 4 mins to run on google colab with runtime as GPU, as the batch_size is taken to be 100, but we get better accuracies\n",
        "loss_list_training = []\n",
        "accuracy_list = []\n",
        "iterations_ = 0\n",
        "iterations_list = []\n",
        "loss_list_testing = []\n",
        "\n",
        "for each in range(epochs):\n",
        "\n",
        "  for indx, (inputs, labels) in enumerate(train_loader):\n",
        "\n",
        "    # we know inputs dimensions is 100 X 1 X 28 X 28\n",
        "    # 100 - batch size, 1 - only gray scale, 28 X 28 - dimensions\n",
        "    # we have to send it back like 100, (28*28)\n",
        "    #inputs = inputs.reshape(-1,).to(device)\n",
        "    inputs = inputs.to(device)\n",
        "    labels = labels.to(device)\n",
        "\n",
        "    predictions = model(inputs)\n",
        "    loss = loss_(predictions, labels)\n",
        "\n",
        "    # calling backward function\n",
        "    loss.backward()\n",
        "\n",
        "    # creating the gradients\n",
        "    optimizer.step()\n",
        "\n",
        "    # clearing the gradients\n",
        "    optimizer.zero_grad()\n",
        "\n",
        "    \n",
        "\n",
        "    iterations_ += 1\n",
        "    if iterations_%60 == 0:\n",
        "    #if iterations_%1==0:\n",
        "      with torch.no_grad():\n",
        "\n",
        "        correct_predictions = 0\n",
        "        no_of_samples_seen = 0\n",
        "        \n",
        "        for indx_, (inputs_, labels_) in enumerate(val_loader):\n",
        "\n",
        "          #inputs_ = inputs_.view(-1, 1, 28, 28).to(device)\n",
        "          inputs_ = inputs_.to(device)\n",
        "          labels_ = labels_.to(device)\n",
        "          \n",
        "          predictions_ = model(inputs_)\n",
        "          predictions_on_val_ = loss_(predictions_, labels_)\n",
        "          \n",
        "          # torch.max will return value and index, we are only interested in index, as it will define the predicted label\n",
        "          _, predict_label = torch.max(predictions_, 1)\n",
        "          \n",
        "\n",
        "          correct_predictions += (predict_label == labels_).sum().item()\n",
        "          no_of_samples_seen += labels_.shape[0]\n",
        "\n",
        "      loss_list_testing.append(predictions_on_val_.item())\n",
        "      total_accuracy = (100)*(correct_predictions/no_of_samples_seen)\n",
        "      loss_list_training.append(loss.item())\n",
        "      iterations_list.append(iterations_)\n",
        "      accuracy_list.append(total_accuracy)\n",
        "    \n",
        "      print(f\"Epoch: {each + 1}/{epochs}, Iterations: {iterations_}, Loss: {loss:.8f} , Accuracy: {total_accuracy}\")"
      ],
      "metadata": {
        "colab": {
          "base_uri": "https://localhost:8080/"
        },
        "id": "RlzPAwO6aWV5",
        "outputId": "f29f3c8f-ba7c-4750-dafc-d8f16b2cfab7"
      },
      "execution_count": 185,
      "outputs": [
        {
          "output_type": "stream",
          "name": "stdout",
          "text": [
            "Epoch: 1/5, Iterations: 60, Loss: 0.60834366 , Accuracy: 77.83333333333333\n",
            "Epoch: 1/5, Iterations: 120, Loss: 0.48910958 , Accuracy: 81.58333333333333\n",
            "Epoch: 1/5, Iterations: 180, Loss: 0.48517185 , Accuracy: 81.41666666666667\n",
            "Epoch: 1/5, Iterations: 240, Loss: 0.48922470 , Accuracy: 84.63333333333334\n",
            "Epoch: 2/5, Iterations: 300, Loss: 0.43257999 , Accuracy: 86.13333333333333\n",
            "Epoch: 2/5, Iterations: 360, Loss: 0.36863625 , Accuracy: 85.96666666666667\n",
            "Epoch: 2/5, Iterations: 420, Loss: 0.34273487 , Accuracy: 86.96666666666667\n",
            "Epoch: 2/5, Iterations: 480, Loss: 0.35015878 , Accuracy: 87.31666666666666\n",
            "Epoch: 2/5, Iterations: 540, Loss: 0.33462456 , Accuracy: 87.31666666666666\n",
            "Epoch: 3/5, Iterations: 600, Loss: 0.29290986 , Accuracy: 87.41666666666667\n",
            "Epoch: 3/5, Iterations: 660, Loss: 0.32048357 , Accuracy: 87.55\n",
            "Epoch: 3/5, Iterations: 720, Loss: 0.29395661 , Accuracy: 87.85\n",
            "Epoch: 3/5, Iterations: 780, Loss: 0.39447081 , Accuracy: 88.14999999999999\n",
            "Epoch: 4/5, Iterations: 840, Loss: 0.26590270 , Accuracy: 89.05\n",
            "Epoch: 4/5, Iterations: 900, Loss: 0.36937222 , Accuracy: 88.94999999999999\n",
            "Epoch: 4/5, Iterations: 960, Loss: 0.33870557 , Accuracy: 89.21666666666667\n",
            "Epoch: 4/5, Iterations: 1020, Loss: 0.27109382 , Accuracy: 88.85\n",
            "Epoch: 4/5, Iterations: 1080, Loss: 0.35968727 , Accuracy: 88.86666666666667\n",
            "Epoch: 5/5, Iterations: 1140, Loss: 0.28248361 , Accuracy: 88.81666666666666\n",
            "Epoch: 5/5, Iterations: 1200, Loss: 0.27493551 , Accuracy: 89.76666666666667\n",
            "Epoch: 5/5, Iterations: 1260, Loss: 0.32220978 , Accuracy: 88.91666666666667\n",
            "Epoch: 5/5, Iterations: 1320, Loss: 0.20990458 , Accuracy: 89.33333333333333\n"
          ]
        }
      ]
    },
    {
      "cell_type": "markdown",
      "source": [
        "## Plotting the graphs\n",
        "\n"
      ],
      "metadata": {
        "id": "AoohgpRJcwOs"
      }
    },
    {
      "cell_type": "markdown",
      "source": [
        "### Loss vs  Iterations"
      ],
      "metadata": {
        "id": "YhkJF0DN9Am_"
      }
    },
    {
      "cell_type": "code",
      "source": [
        "type(loss_list_training[0])\n",
        "type(loss_list_testing[0])"
      ],
      "metadata": {
        "colab": {
          "base_uri": "https://localhost:8080/"
        },
        "id": "eqnh5Prx9vp0",
        "outputId": "a1f93f30-0d0b-48cc-de0c-5721538ff5e2"
      },
      "execution_count": 194,
      "outputs": [
        {
          "output_type": "execute_result",
          "data": {
            "text/plain": [
              "float"
            ]
          },
          "metadata": {},
          "execution_count": 194
        }
      ]
    },
    {
      "cell_type": "code",
      "source": [
        "plt.plot(iterations_list, loss_list_training)\n",
        "plt.xlabel(\"Number of iterations\")\n",
        "plt.ylabel(\"Loss Value\")\n",
        "plt.title(\"Loss against Iteration on Training Set\")\n",
        "plt.show()"
      ],
      "metadata": {
        "colab": {
          "base_uri": "https://localhost:8080/",
          "height": 295
        },
        "id": "1hEYA3dxcnxO",
        "outputId": "286dc0d3-7f0b-429b-f9c4-a1c04d9bc023"
      },
      "execution_count": 195,
      "outputs": [
        {
          "output_type": "display_data",
          "data": {
            "text/plain": [
              "<Figure size 432x288 with 1 Axes>"
            ],
            "image/png": "[encoded data removed]"
          },
          "metadata": {
            "needs_background": "light"
          }
        }
      ]
    },
    {
      "cell_type": "code",
      "source": [
        "plt.plot(iterations_list, loss_list_testing)\n",
        "plt.xlabel(\"Number of iterations\")\n",
        "plt.ylabel(\"Loss Value\")\n",
        "plt.title(\"Loss against Iteration on Validation Set\")\n",
        "plt.show()"
      ],
      "metadata": {
        "colab": {
          "base_uri": "https://localhost:8080/",
          "height": 295
        },
        "id": "61kWBmG3ezGD",
        "outputId": "080ad84a-d13c-41ad-faba-3d69830a3c41"
      },
      "execution_count": 196,
      "outputs": [
        {
          "output_type": "display_data",
          "data": {
            "text/plain": [
              "<Figure size 432x288 with 1 Axes>"
            ],
            "image/png": "[encoded data removed]"
          },
          "metadata": {
            "needs_background": "light"
          }
        }
      ]
    },
    {
      "cell_type": "markdown",
      "source": [
        "## Accuracy "
      ],
      "metadata": {
        "id": "gkJSx_9OZm7L"
      }
    },
    {
      "cell_type": "markdown",
      "source": [
        "#### Training"
      ],
      "metadata": {
        "id": "KjfCfaqAZt3V"
      }
    },
    {
      "cell_type": "code",
      "source": [
        "with torch.no_grad():\n",
        "  \n",
        "  correct_train = 0\n",
        "  train_samples = 0\n",
        "\n",
        "  for indx, (inputs, labels) in enumerate(train_loader):\n",
        "\n",
        "    inputs = inputs.to(device)\n",
        "    labels = labels.to(device)\n",
        "\n",
        "\n",
        "    predictions_train = model(inputs)\n",
        "\n",
        "    # torch.max will return value and index, we are only interested in index, as it will define the predicted label\n",
        "    _, predict_labels_train = torch.max(predictions_train, 1)\n",
        "\n",
        "    correct_train += (predict_labels_train == labels).sum().item()\n",
        "    train_samples += labels.shape[0]\n",
        "\n",
        "print(f'Train Accuracy: {100*(correct_train/train_samples)}')"
      ],
      "metadata": {
        "id": "0aeRMaE8fCg9",
        "colab": {
          "base_uri": "https://localhost:8080/"
        },
        "outputId": "aed24eb8-2527-4b49-9b9d-53fc21d07fe3"
      },
      "execution_count": 197,
      "outputs": [
        {
          "output_type": "stream",
          "name": "stdout",
          "text": [
            "Train Accuracy: 90.58148148148149\n"
          ]
        }
      ]
    },
    {
      "cell_type": "markdown",
      "source": [
        "#### Validation"
      ],
      "metadata": {
        "id": "WMCnbE0IanA-"
      }
    },
    {
      "cell_type": "code",
      "source": [
        "with torch.no_grad():\n",
        "  \n",
        "  correct_val = 0\n",
        "  val_samples = 0\n",
        "  k = 1\n",
        "  for indx, (inputs, labels) in enumerate(val_loader):\n",
        "\n",
        "    inputs = inputs.to(device)\n",
        "    labels = labels.to(device)\n",
        "\n",
        "\n",
        "    predictions_val = model(inputs)\n",
        "    if k == 1:\n",
        "      print(f'Predictions val: {predictions_val.size}')\n",
        "    # torch.max will return value and index, we are only interested in index, as it will define the predicted label\n",
        "    _, predict_labels_val = torch.max(predictions_val, 1)\n",
        "    k += 1\n",
        "    correct_val += (predict_labels_val == labels).sum().item()\n",
        "    val_samples += labels.shape[0]\n"
      ],
      "metadata": {
        "id": "4C5nMVpU4-7H",
        "colab": {
          "base_uri": "https://localhost:8080/"
        },
        "outputId": "43c5ee3f-6a8e-41fc-e66c-2b57b86c7a7d"
      },
      "execution_count": 198,
      "outputs": [
        {
          "output_type": "stream",
          "name": "stdout",
          "text": [
            "Predictions val: <built-in method size of Tensor object at 0x7f0b1ac1d290>\n"
          ]
        }
      ]
    },
    {
      "cell_type": "code",
      "source": [
        "print(f'Validation Accuracy: {100*(correct_val/val_samples)}')"
      ],
      "metadata": {
        "colab": {
          "base_uri": "https://localhost:8080/"
        },
        "id": "a-Q_ssQXbEfe",
        "outputId": "db169a33-8fe9-43b8-b420-4f2896ddee9c"
      },
      "execution_count": 199,
      "outputs": [
        {
          "output_type": "stream",
          "name": "stdout",
          "text": [
            "Validation Accuracy: 89.81666666666666\n"
          ]
        }
      ]
    },
    {
      "cell_type": "code",
      "source": [
        "with torch.no_grad():\n",
        "  \n",
        "  correct_test = 0\n",
        "  test_samples = 0\n",
        "  for indx, (inputs, labels) in enumerate(test_loader):\n",
        "\n",
        "    inputs = inputs.to(device)\n",
        "    labels = labels.to(device)\n",
        "\n",
        "\n",
        "    predictions_test = model(inputs)\n",
        "    # torch.max will return value and index, we are only interested in index, as it will define the predicted label\n",
        "    _, predict_labels_test = torch.max(predictions_test, 1)\n",
        "    correct_test += (predict_labels_test == labels).sum().item()\n",
        "    test_samples += labels.shape[0]\n",
        "\n",
        "print(f'Test Accuracy: {100*(correct_test/test_samples)}')"
      ],
      "metadata": {
        "colab": {
          "base_uri": "https://localhost:8080/"
        },
        "id": "ghNhozsxbQN0",
        "outputId": "44135f45-453a-4842-c84c-63b4afb62ffc"
      },
      "execution_count": 200,
      "outputs": [
        {
          "output_type": "stream",
          "name": "stdout",
          "text": [
            "Test Accuracy: 89.07000000000001\n"
          ]
        }
      ]
    },
    {
      "cell_type": "markdown",
      "source": [
        "## Predictions by Testing Set"
      ],
      "metadata": {
        "id": "_-GfC79Xe6rl"
      }
    },
    {
      "cell_type": "code",
      "source": [
        "predictions_test_ = []\n",
        "with torch.no_grad():\n",
        "  \n",
        "  for indx, (inputs, labels) in enumerate(test_loader):\n",
        "\n",
        "    inputs = inputs.to(device)\n",
        "    labels = labels.to(device)\n",
        "\n",
        "\n",
        "    predictions_test = model(inputs)\n",
        "    _, predict_labels_test = torch.max(predictions_test, 1)\n",
        "    predictions_test_.extend(predict_labels_test)"
      ],
      "metadata": {
        "id": "e34g98TIbaA0"
      },
      "execution_count": 193,
      "outputs": []
    },
    {
      "cell_type": "code",
      "source": [],
      "metadata": {
        "id": "BzK4hc69fH2x"
      },
      "execution_count": null,
      "outputs": []
    }
  ]
}